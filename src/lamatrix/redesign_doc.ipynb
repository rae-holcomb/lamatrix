{
 "cells": [
  {
   "cell_type": "markdown",
   "metadata": {},
   "source": [
    "The purpose of this notebook is to lay out the intended behaviors for the redesign of `lamatrix`.\n",
    "\n",
    "Written by Rae Holcomb, 7/26/2024"
   ]
  },
  {
   "cell_type": "markdown",
   "metadata": {},
   "source": [
    "# The Generator Class\n",
    "\n",
    "\n"
   ]
  },
  {
   "cell_type": "markdown",
   "metadata": {
    "vscode": {
     "languageId": "plaintext"
    }
   },
   "source": [
    "# Offset Generators\n",
    "\n",
    "An _OffsetGenerator_ represents a column of ones in the design matrix. This represents a constant offset to the model. When building a model, you should have no more than one _OffsetGenerator_. (I think we should consider building in a `_validate()` function which raises a warning if you try to add an _OffsetGenerator_ to a model that already has one.) \n",
    "\n",
    "By convention, when combining generators we put the _OffsetGenerator_ first. Thus a model representing a sinusoid with a constant offset\n",
    "$$ M = 1 + \\sin(\\theta)$$\n",
    "would be represented as\n",
    "$$ M = SIG(\\text{OffsetGenerator}, \\text{SineGenerator})$$\n",
    "where SIG represents a stacked independent generator.\n",
    "\n",
    "One unique behavior is that an _OffsetGenerator_ does not require any input args to create. As a result, you can not create the design matrix for an _OffsetGenerator_ until you combine it with other generators that do have input args. After that, the _OffsetGenerator_ will infer the data shape from those args."
   ]
  },
  {
   "cell_type": "markdown",
   "metadata": {},
   "source": [
    "# Combinding Generators Independently\n",
    "\n",
    "This should work more or less the same way as the original verion of `lamatrix`. \n",
    "\n",
    "Note: Stacking a SIG with another generator adds them all on the same level. It does _not_ create an SIG nested inside another SIG. The intended behavior is:\n",
    "\n",
    "$$SIG(A, B) + C → SIG(A, B, C) $$\n",
    "\n",
    "**NOT**\n",
    "\n",
    "$$SIG(A, B) + C → SIG(SIG(A, B), C) $$\n",
    "\n",
    "As a result of this (and the changes to dependent combinations), this means you should never have generators nested deeper than one level.\n"
   ]
  },
  {
   "cell_type": "markdown",
   "metadata": {},
   "source": [
    "# Combinding Generators Dependently\n",
    "\n",
    "Multiplying two generators performs the following operation:\n",
    "$$ a * b = a + b + \\text{CrosstermGenerator}(a,b) $$\n",
    "which is the same as\n",
    "$$ a * b = SIG(a, b, CG(a,b)) $$\n",
    "\n",
    "Note:\n",
    "* A _CrosstermGenerator_ is a special class which contains the crossterms of two or more generators. \n",
    "* The `width` of a CG will be the product of the widths of its input generators.\n",
    "* We may want to build in a warning that either prevents an _OffsetGenerator_ from being passed as an input to a _CrosstermGenerator_."
   ]
  },
  {
   "cell_type": "markdown",
   "metadata": {},
   "source": [
    "## Examples\n",
    "Here are some examples of the expected behaviors for more complex combinations.\n",
    "\n",
    "Example 1:\n",
    "$$ a * b * c = (a + b + CG(a,b)) * c $$\n",
    "$$ = a + b + c + CG(a,b) + CG(a,c) + CG(b,c) + CG(a,b,c) $$\n",
    "\n",
    "Example 2:\n",
    "$$ (a + b) * c = a + b + c + CG(a,c) + CG(b,c) $$\n",
    "\n",
    "The way I think about implementing this is that you copy the full first input to the _CrosstermGenerator_, copy the full second input, and then add a _CrosstermGenerator_ for every combination of generators in the first input and the second input.\n",
    "\n"
   ]
  },
  {
   "cell_type": "markdown",
   "metadata": {
    "vscode": {
     "languageId": "plaintext"
    }
   },
   "source": [
    "## Edge Cases\n",
    "\n",
    "**Edge Case 1: Only One Input**\n",
    "\n",
    "This should probably just through an error, but it is also a possibility that a _CrosstermGenerator_ with only one generator inputted defaults to just returning the generator. Thus $CG(a)$ would return $a$.\n",
    "\n",
    "\n",
    "**Edge Case 2: OffsetGenerators**\n",
    "We will need to think about the behavior of _OffestGenerator_s when passed to a _CrosstermGenerator_. I see two possibilities:\n",
    "1. Completely disallow it. Raise a warning if an a _OffsetGenerator_ is passed as an input.\n",
    "2. _OffsetGenerator_ inputs are ignored. So \n",
    "$$CG(\\text{OffestGenerator}, b, c) → CG(b, c) $$\n",
    "\n",
    "I'm leaning towards the first behavior, since the second could lead to redundancies like this\n",
    "\n",
    "$$a * (b+1) → a + b + 1 + CG(a,b) + CG(a,1) → 1 + b + b$$"
   ]
  },
  {
   "cell_type": "markdown",
   "metadata": {},
   "source": [
    "# Setting Priors\n",
    "\n",
    "In complex models, we should encourage the user to index into the base generator they want in order to set priors. For example, for a model like this\n",
    "$$ p_{1} = \\text{PolynomialGenerator}(x, polyorder=2) $$\n",
    "$$ p_{2} = \\text{PolynomialGenerator}(y, polyorder=2) $$\n",
    "$$ M = p_{1} + p_{2} = SIG(p_{1}, p_{2}) $$\n",
    "the correct way to set a prior on the first order term of $x$ in $M$ would be\n",
    "\n",
    "`M[0].set_prior(0, (mean,std))`\n",
    "\n",
    "This means that **order matters** inside of a SIG, and should be preserved in an intuitive way.\n",
    "\n",
    "To make things easier for the user, I was also planning to build a helper function called `Generator.get_term(index)` which would return the term of the equation corresponding the element at that index within a generator. I think it would be helpful when checking to make sure you're setting the prior on the right term!\n"
   ]
  },
  {
   "cell_type": "markdown",
   "metadata": {},
   "source": []
  }
 ],
 "metadata": {
  "language_info": {
   "name": "python"
  }
 },
 "nbformat": 4,
 "nbformat_minor": 2
}
